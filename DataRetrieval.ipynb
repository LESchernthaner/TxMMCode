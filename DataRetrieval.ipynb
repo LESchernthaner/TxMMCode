{
  "nbformat": 4,
  "nbformat_minor": 0,
  "metadata": {
    "colab": {
      "name": "TxMM_DataRetrieval",
      "provenance": [],
      "collapsed_sections": [
        "8Hq5C8wEjbXW",
        "klmuNqsTpo9Y"
      ],
      "toc_visible": true
    },
    "kernelspec": {
      "name": "python3",
      "display_name": "Python 3"
    }
  },
  "cells": [
    {
      "cell_type": "markdown",
      "metadata": {
        "id": "c8ZSQp-YfQ-9"
      },
      "source": [
        "# Text and Multimedia Mining Project 2020-2021\n",
        "This notebook contains the code of the project \"Dynamic topic modeling on ASD-related articles\" for the course Text and Multimedia Mining constructed by Luna-Elise Schernthaner (s4703928).\n",
        "\n",
        "The datasets are obtained with the help of the tutorial found at http://biopython.org/DIST/docs/tutorial/Tutorial.html (Section 9.16)"
      ]
    },
    {
      "cell_type": "markdown",
      "metadata": {
        "id": "NX5v6ZPQfxLO"
      },
      "source": [
        "## Steps\n",
        "\n",
        "1.   Get all English non-review abstracts from PubMed containing terms related to ASD published between January 1 2009 and December 31 2018, including their metadata (authors, date, meSH terms, etc), as well as all English review abstracts related to ASD published between January 1 2010 and December 31 2019\n",
        "2.   Visualise the data\n",
        "\n",
        "The rest of this analysis is performed in python code separate from this notebook\n",
        "\n",
        "3.   Perform preprocessing on the articles (tokenization, POS tagging, etc)\n",
        "4.   Perform dynamic topic modeling (including tuning hyperparameters)\n",
        "5.   Visualise the results (with e.g. wordclouds)\n",
        "6.   Verify results manually by comparing topics in review articles with found topics\n"
      ]
    },
    {
      "cell_type": "markdown",
      "metadata": {
        "id": "8Hq5C8wEjbXW"
      },
      "source": [
        "### Step 1a: Retrieve main dataset\n",
        "#### ONLY RUN ON WEEKENDS OR BETWEEN 9:00 PM AND 5:00 AM EASTERN TIME DURING WEEKDAYS"
      ]
    },
    {
      "cell_type": "code",
      "metadata": {
        "id": "GzftKpJTjlAN"
      },
      "source": [
        "pip install biopython"
      ],
      "execution_count": null,
      "outputs": []
    },
    {
      "cell_type": "code",
      "metadata": {
        "id": "V5sDxLHkjbGW"
      },
      "source": [
        "from Bio import Entrez\n",
        "import xml.etree.ElementTree as ET\n",
        "import os\n",
        "\n",
        "!mkdir mainQueryFiles\n",
        "\n",
        "Entrez.email = 'L.schernthaner@student.ru.nl'\n",
        "Entrez.tool = 'ASD_Topic_Modeling_2009_2019'\n",
        "\n",
        "mainQuery = 'autism NOT review AND 2009:2018[dp] AND English[Language]' #24,487 results"
      ],
      "execution_count": null,
      "outputs": []
    },
    {
      "cell_type": "code",
      "metadata": {
        "id": "Q-pfsjYMjqxs"
      },
      "source": [
        "# Retrieve main dataset\n",
        "# ONLY RUN ON WEEKENDS OR BETWEEN 9:00 PM AND 5:00 AM EASTERN TIME DURING WEEKDAYS\n",
        "\n",
        "search_handle = Entrez.esearch(db=\"pubmed\",term=mainQuery, usehistory=\"y\")\n",
        "search_results = Entrez.read(search_handle)\n",
        "search_handle.close()\n",
        "\n",
        "webenv = search_results[\"WebEnv\"]\n",
        "query_key = search_results[\"QueryKey\"]\n",
        "count = int(search_results[\"Count\"])\n",
        "\n",
        "fileNo = 1\n",
        "batch_size = 3\n",
        "for start in range(0, count, batch_size):\n",
        "    with open(f\"/content/mainQueryFiles/mainQuery{fileNo}.xml\", \"w\") as out_handle:\n",
        "      end = min(count, start + batch_size)\n",
        "      print(\"Going to download record %i to %i\" % (start + 1, end))\n",
        "      fetch_handle = Entrez.efetch(\n",
        "          db=\"pubmed\",\n",
        "          retstart=start,\n",
        "          retmax=batch_size,\n",
        "          webenv=webenv,\n",
        "          query_key=query_key,\n",
        "          retmode=\"xml\"\n",
        "      )\n",
        "      data = fetch_handle.read().decode(\"UTF-8\")\n",
        "      fetch_handle.close()\n",
        "      out_handle.write(data)\n",
        "    fileNo = fileNo + 1"
      ],
      "execution_count": null,
      "outputs": []
    },
    {
      "cell_type": "code",
      "metadata": {
        "id": "avphGWh2d0Lt"
      },
      "source": [
        "# Merge retrieved batches of main query into 1 XML file\n",
        "\n",
        "# Initialise merging XML structure\n",
        "firstFile =\"/content/mainQueryFiles/mainQuery1.xml\"\n",
        "target=\"/content/mainQueryFiles/combinedMainQuery.xml\"\n",
        "tree = ET.parse(firstFile)\n",
        "PMArticleSet = tree.getroot()\n",
        "\n",
        "# Combine all XML files into one\n",
        "directory = \"/content/mainQueryFiles/\"\n",
        "for batch in os.scandir(directory):\n",
        "  if batch.name in [firstFile, target]:\n",
        "    continue\n",
        "  print(batch.name)\n",
        "  newTree = ET.parse(batch)\n",
        "  newPMArticleSet = newTree.getroot()\n",
        "  for newPMArticle in newPMArticleSet:\n",
        "    PMArticleSet.append(newPMArticle)\n",
        "tree.write(target)"
      ],
      "execution_count": null,
      "outputs": []
    },
    {
      "cell_type": "markdown",
      "metadata": {
        "id": "lOn2YMyBg-XO"
      },
      "source": [
        "### Step 2a: Visualise main dataset"
      ]
    },
    {
      "cell_type": "code",
      "metadata": {
        "id": "W9UlVNehhQah"
      },
      "source": [
        "import xml.etree.ElementTree as ET\n",
        "import pandas as pd\n",
        "import seaborn as sns\n",
        "import matplotlib.pyplot as plt\n",
        "sns.set()"
      ],
      "execution_count": null,
      "outputs": []
    },
    {
      "cell_type": "code",
      "metadata": {
        "id": "s7-Ab5rDhEvs",
        "collapsed": true
      },
      "source": [
        "# From each article, get the abstract and publication date information and put into table\n",
        "\n",
        "mainData = pd.DataFrame(None , columns = ['Abstract', 'Year', 'Month', 'Day'])\n",
        "tree = ET.parse(\"/content/combinedMainQuery.xml\")\n",
        "PMArticleSet = tree.getroot()\n",
        "for PMArticle in PMArticleSet:\n",
        "  try:\n",
        "    abstractText = \" \".join([part.text for part in list(PMArticle.iter('AbstractText'))])\n",
        "  except:\n",
        "    abstractText = None\n",
        "  pubDate = list(PMArticle.iter('PubDate'))[0]\n",
        "  try:\n",
        "    pubYear = list(pubDate.iter('Year'))[0].text\n",
        "  except:\n",
        "    pubYear = None\n",
        "  try:\n",
        "    pubMonth = list(pubDate.iter('Month'))[0].text\n",
        "  except:\n",
        "    pubMonth = None\n",
        "  try:\n",
        "    pubDay = list(pubDate.iter('Day'))[0].text\n",
        "  except:\n",
        "    pubDay = None\n",
        "  mainData = mainData.append({'Abstract': abstractText, 'Year': pubYear, 'Month': pubMonth, 'Day': pubDay}, ignore_index=True)\n",
        "mainData = mainData.sort_values(by=['Year'])"
      ],
      "execution_count": null,
      "outputs": []
    },
    {
      "cell_type": "code",
      "metadata": {
        "id": "x3hKroIhDDPn"
      },
      "source": [
        "# Visualise the dataset by year\n",
        "\n",
        "plt.figure(figsize=(8,4))\n",
        "sns.countplot(x='Year', data=mainData);"
      ],
      "execution_count": null,
      "outputs": []
    },
    {
      "cell_type": "code",
      "metadata": {
        "id": "geiXazbn0vr5"
      },
      "source": [
        "# Filter out unusable data\n",
        "# There are 1096 articles without a year or abstract or both\n",
        "\n",
        "print(len(mainData) - len(mainData.loc[(mainData['Abstract'].isnull()) | (mainData['Year'].isnull()) ]))\n",
        "print(len(mainData.loc[ (mainData['Abstract'].notnull()) & (mainData['Year'].notnull()) ]))\n",
        "mainData = mainData.loc[ (mainData['Abstract'].notnull()) & (mainData['Year'].notnull()) ]\n",
        "\n",
        "mainData['Year'].astype(int)\n",
        "mainData['Year'] = pd.to_numeric(mainData['Year'])\n",
        "mainData['Day'] = pd.to_numeric(mainData['Day'])\n",
        "\n",
        "print(len(mainData) - len(mainData.loc[ (mainData['Year'] < 2009) | (mainData['Year'] > 2018) ]))\n",
        "print(len(mainData.loc[ (mainData['Year'] >= 2009) & (mainData['Year'] <= 2018) ]))\n",
        "mainData = mainData.loc[ (mainData['Year'] >= 2009) & (mainData['Year'] <= 2018) ]"
      ],
      "execution_count": null,
      "outputs": []
    },
    {
      "cell_type": "code",
      "metadata": {
        "id": "ghEbPAbtuQM5"
      },
      "source": [
        "mainData['Year'] = mainData['Year'].astype(int)"
      ],
      "execution_count": null,
      "outputs": []
    },
    {
      "cell_type": "code",
      "metadata": {
        "id": "4ZUmsJKKjgSU"
      },
      "source": [
        "plt.figure(figsize=(8,4))\n",
        "sns.countplot(x='Year', data=mainData);"
      ],
      "execution_count": null,
      "outputs": []
    },
    {
      "cell_type": "code",
      "metadata": {
        "id": "0x7TqQ87j24c"
      },
      "source": [
        "# Get number of articles published each year\n",
        "\n",
        "artCounts = mainData[['Year','Abstract']].groupby(['Year']).count()\n",
        "noArtYear = artCounts['Abstract'].tolist()\n",
        "noArtYear"
      ],
      "execution_count": null,
      "outputs": []
    },
    {
      "cell_type": "code",
      "metadata": {
        "id": "ODbuC0oynZ1f"
      },
      "source": [
        "# Save main data for further analysis\n",
        "\n",
        "mainData.to_pickle('/content/mainData_unprocessed.pkl')"
      ],
      "execution_count": null,
      "outputs": []
    },
    {
      "cell_type": "markdown",
      "metadata": {
        "id": "klmuNqsTpo9Y"
      },
      "source": [
        "### Step 1b: Retrieve validation dataset\n",
        "#### ONLY RUN ON WEEKENDS OR BETWEEN 9:00 PM AND 5:00 AM EASTERN TIME DURING WEEKDAYS"
      ]
    },
    {
      "cell_type": "code",
      "metadata": {
        "id": "r2AKQEzOubj-",
        "colab": {
          "base_uri": "https://localhost:8080/"
        },
        "outputId": "d938a201-c972-425a-dd66-6b72e8c8e139"
      },
      "source": [
        "pip install biopython"
      ],
      "execution_count": 1,
      "outputs": [
        {
          "output_type": "stream",
          "text": [
            "Collecting biopython\n",
            "\u001b[?25l  Downloading https://files.pythonhosted.org/packages/76/02/8b606c4aa92ff61b5eda71d23b499ab1de57d5e818be33f77b01a6f435a8/biopython-1.78-cp36-cp36m-manylinux1_x86_64.whl (2.3MB)\n",
            "\u001b[K     |████████████████████████████████| 2.3MB 7.6MB/s \n",
            "\u001b[?25hRequirement already satisfied: numpy in /usr/local/lib/python3.6/dist-packages (from biopython) (1.19.4)\n",
            "Installing collected packages: biopython\n",
            "Successfully installed biopython-1.78\n"
          ],
          "name": "stdout"
        }
      ]
    },
    {
      "cell_type": "code",
      "metadata": {
        "id": "yjxHZLCzuhpy"
      },
      "source": [
        "from Bio import Entrez\n",
        "import xml.etree.ElementTree as ET\n",
        "import os\n",
        "\n",
        "!mkdir validationQueryFiles\n",
        "\n",
        "Entrez.email = 'L.schernthaner@student.ru.nl'\n",
        "Entrez.tool = 'ASD_Topic_Modeling_2009_2019'\n",
        "\n",
        "validationQuery = 'autism AND review AND 2010:2019[dp] AND English[Language]' # 6,580 results"
      ],
      "execution_count": 2,
      "outputs": []
    },
    {
      "cell_type": "code",
      "metadata": {
        "id": "BAToD7cYun5j"
      },
      "source": [
        "# Retrieve validation dataset\n",
        "# ONLY RUN ON WEEKENDS OR BETWEEN 9:00 PM AND 5:00 AM EASTERN TIME DURING WEEKDAYS\n",
        "\n",
        "search_handle = Entrez.esearch(db=\"pubmed\",term=validationQuery, usehistory=\"y\")\n",
        "search_results = Entrez.read(search_handle)\n",
        "search_handle.close()\n",
        "\n",
        "webenv = search_results[\"WebEnv\"]\n",
        "query_key = search_results[\"QueryKey\"]\n",
        "count = int(search_results[\"Count\"])\n",
        "\n",
        "fileNo = 1\n",
        "batch_size = 3\n",
        "for start in range(0, count, batch_size):\n",
        "    with open(f\"/content/validationQueryFiles/validationQuery{fileNo}.xml\", \"w\") as out_handle:\n",
        "      end = min(count, start + batch_size)\n",
        "      print(\"Going to download record %i to %i\" % (start + 1, end))\n",
        "      fetch_handle = Entrez.efetch(\n",
        "          db=\"pubmed\",\n",
        "          retstart=start,\n",
        "          retmax=batch_size,\n",
        "          webenv=webenv,\n",
        "          query_key=query_key,\n",
        "          retmode=\"xml\"\n",
        "      )\n",
        "      data = fetch_handle.read().decode(\"UTF-8\")\n",
        "      fetch_handle.close()\n",
        "      out_handle.write(data)\n",
        "    fileNo = fileNo + 1"
      ],
      "execution_count": null,
      "outputs": []
    },
    {
      "cell_type": "code",
      "metadata": {
        "id": "eALC_dXQuoFo"
      },
      "source": [
        "# Merge retrieved batches of validation query into 1 XML file\n",
        "\n",
        "# Initialise merging XML structure\n",
        "firstFile =\"/content/validationQueryFiles/validationQuery1.xml\"\n",
        "target=\"/content/validationQueryFiles/combinedValidationQuery.xml\"\n",
        "tree = ET.parse(firstFile)\n",
        "PMArticleSet = tree.getroot()\n",
        "\n",
        "# Combine all XML files into one\n",
        "directory = \"/content/validationQueryFiles/\"\n",
        "for batch in os.scandir(directory):\n",
        "  if batch.name in [firstFile, target]:\n",
        "    continue\n",
        "  print(batch.name)\n",
        "  newTree = ET.parse(batch)\n",
        "  newPMArticleSet = newTree.getroot()\n",
        "  for newPMArticle in newPMArticleSet:\n",
        "    PMArticleSet.append(newPMArticle)\n",
        "tree.write(target)"
      ],
      "execution_count": null,
      "outputs": []
    },
    {
      "cell_type": "markdown",
      "metadata": {
        "id": "KfPNt6VkpxdY"
      },
      "source": [
        "### Step 2b: Visualise validation dataset"
      ]
    },
    {
      "cell_type": "code",
      "metadata": {
        "id": "Ix_1YuCFq-9e"
      },
      "source": [
        "import xml.etree.ElementTree as ET\n",
        "import pandas as pd\n",
        "import seaborn as sns\n",
        "import matplotlib.pyplot as plt\n",
        "sns.set()"
      ],
      "execution_count": 6,
      "outputs": []
    },
    {
      "cell_type": "code",
      "metadata": {
        "id": "5mTlYIv4oTnt"
      },
      "source": [
        "# From each article, get the abstract and publication date information and put into table\n",
        "\n",
        "validationData = pd.DataFrame(None , columns = ['Abstract', 'Year', 'Month', 'Day'])\n",
        "tree = ET.parse(\"/content/validationQueryFiles/combinedValidationQuery.xml\")\n",
        "PMArticleSet = tree.getroot()\n",
        "for PMArticle in PMArticleSet:\n",
        "  try:\n",
        "    abstractText = \" \".join([part.text for part in list(PMArticle.iter('AbstractText'))])\n",
        "  except:\n",
        "    abstractText = None\n",
        "  pubDate = list(PMArticle.iter('PubDate'))[0]\n",
        "  try:\n",
        "    pubYear = list(pubDate.iter('Year'))[0].text\n",
        "  except:\n",
        "    pubYear = None\n",
        "  try:\n",
        "    pubMonth = list(pubDate.iter('Month'))[0].text\n",
        "  except:\n",
        "    pubMonth = None\n",
        "  try:\n",
        "    pubDay = list(pubDate.iter('Day'))[0].text\n",
        "  except:\n",
        "    pubDay = None\n",
        "  validationData = validationData.append({'Abstract': abstractText, 'Year': pubYear, 'Month': pubMonth, 'Day': pubDay}, ignore_index=True)\n",
        "validationData = validationData.sort_values(by=['Year'])"
      ],
      "execution_count": 14,
      "outputs": []
    },
    {
      "cell_type": "code",
      "metadata": {
        "colab": {
          "base_uri": "https://localhost:8080/",
          "height": 285
        },
        "id": "e5yf2wUpov6s",
        "outputId": "f8e679aa-252e-42f3-d2eb-dbbcbb73ac5d"
      },
      "source": [
        "# Visualise the validation data by year\n",
        "\n",
        "plt.figure(figsize=(8,4))\n",
        "sns.countplot(x='Year', data=validationData);"
      ],
      "execution_count": 15,
      "outputs": [
        {
          "output_type": "display_data",
          "data": {
            "image/png": "[encoded data removed]",
            "text/plain": [
              "<Figure size 576x288 with 1 Axes>"
            ]
          },
          "metadata": {
            "tags": []
          }
        }
      ]
    },
    {
      "cell_type": "code",
      "metadata": {
        "colab": {
          "base_uri": "https://localhost:8080/"
        },
        "id": "nblO3rS0o3Ol",
        "outputId": "b83e0190-be5f-4c14-c53b-709868314477"
      },
      "source": [
        "# Filter out unusable data\n",
        "# There are 6117 articles without a year or abstract or both\n",
        "\n",
        "print(len(validationData) - len(validationData.loc[(validationData['Abstract'].isnull()) | (validationData['Year'].isnull()) ]))\n",
        "print(len(validationData.loc[ (validationData['Abstract'].notnull()) & (validationData['Year'].notnull()) ]))\n",
        "validationData = validationData.loc[ (validationData['Abstract'].notnull()) & (validationData['Year'].notnull()) ]\n",
        "\n",
        "validationData['Year'].astype(int)\n",
        "validationData['Year'] = pd.to_numeric(validationData['Year'])\n",
        "validationData['Day'] = pd.to_numeric(validationData['Day'])\n",
        "\n",
        "print(len(validationData) - len(validationData.loc[ (validationData['Year'] < 2010) | (validationData['Year'] > 2019) ]))\n",
        "print(len(validationData.loc[ (validationData['Year'] >= 2010) & (validationData['Year'] <= 2019) ]))\n",
        "validationData = validationData.loc[ (validationData['Year'] >= 2010) & (validationData['Year'] <= 2019) ]"
      ],
      "execution_count": 16,
      "outputs": [
        {
          "output_type": "stream",
          "text": [
            "6117\n",
            "6117\n",
            "5976\n",
            "5976\n"
          ],
          "name": "stdout"
        }
      ]
    },
    {
      "cell_type": "code",
      "metadata": {
        "id": "lq_HaW3-o3L3"
      },
      "source": [
        "validationData['Year'] = validationData['Year'].astype(int)"
      ],
      "execution_count": 17,
      "outputs": []
    },
    {
      "cell_type": "code",
      "metadata": {
        "colab": {
          "base_uri": "https://localhost:8080/",
          "height": 285
        },
        "id": "dPIeHfZpo3Jd",
        "outputId": "b60c7eb6-18d0-44db-991b-6761344488ce"
      },
      "source": [
        "plt.figure(figsize=(8,4))\n",
        "sns.countplot(x='Year', data=validationData);"
      ],
      "execution_count": 18,
      "outputs": [
        {
          "output_type": "display_data",
          "data": {
            "image/png": "[encoded data removed]",
            "text/plain": [
              "<Figure size 576x288 with 1 Axes>"
            ]
          },
          "metadata": {
            "tags": []
          }
        }
      ]
    },
    {
      "cell_type": "code",
      "metadata": {
        "colab": {
          "base_uri": "https://localhost:8080/"
        },
        "id": "QaKMD97ao3HC",
        "outputId": "672d705a-2978-4eca-9e34-4752dc930c9e"
      },
      "source": [
        "# Get number of articles published each year\n",
        "\n",
        "artCounts = validationData[['Year','Abstract']].groupby(['Year']).count()\n",
        "noArtYear = artCounts['Abstract'].tolist()\n",
        "noArtYear"
      ],
      "execution_count": 19,
      "outputs": [
        {
          "output_type": "execute_result",
          "data": {
            "text/plain": [
              "[281, 344, 432, 524, 617, 680, 669, 734, 834, 861]"
            ]
          },
          "metadata": {
            "tags": []
          },
          "execution_count": 19
        }
      ]
    },
    {
      "cell_type": "code",
      "metadata": {
        "id": "8qGhPPW4pZ2L"
      },
      "source": [
        "# Save validation data for further analysis\n",
        "\n",
        "validationData.to_pickle('/content/validationData_unprocessed.pkl')"
      ],
      "execution_count": 20,
      "outputs": []
    }
  ]
}